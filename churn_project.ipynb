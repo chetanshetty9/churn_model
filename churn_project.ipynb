{
 "cells": [
  {
   "cell_type": "code",
   "execution_count": 1,
   "id": "c6e6289a-617f-46e5-8aa6-2c961d57cefa",
   "metadata": {},
   "outputs": [],
   "source": [
    "import numpy as np\n",
    "import pandas as pd\n",
    "\n",
    "np.random.seed(42)\n",
    "\n",
    "# Generating synthetic data for churn model\n",
    "num_samples = 100\n",
    "age = np.random.randint(18, 65, num_samples)\n",
    "monthly_spend = np.random.uniform(100, 1000, num_samples)\n",
    "num_transactions = np.random.randint(1, 20, num_samples)\n",
    "churn_prob = 0.3 + (age / 100) + (monthly_spend / 5000) - (num_transactions / 100)\n",
    "churn = np.random.rand(num_samples) < churn_prob\n",
    "\n",
    "data = pd.DataFrame({\n",
    "    'Age': age,\n",
    "    'MonthlySpend': monthly_spend,\n",
    "    'NumTransactions': num_transactions,\n",
    "    'Churn': churn.astype(int)\n",
    "})"
   ]
  },
  {
   "cell_type": "code",
   "execution_count": 2,
   "id": "20460207-8208-4453-a0d4-972ecb203216",
   "metadata": {},
   "outputs": [
    {
     "name": "stdout",
     "output_type": "stream",
     "text": [
      "Model Accuracy: 0.85\n",
      "Classification Report:\n",
      "              precision    recall  f1-score   support\n",
      "\n",
      "           0       0.33      0.50      0.40         2\n",
      "           1       0.94      0.89      0.91        18\n",
      "\n",
      "    accuracy                           0.85        20\n",
      "   macro avg       0.64      0.69      0.66        20\n",
      "weighted avg       0.88      0.85      0.86        20\n",
      "\n"
     ]
    }
   ],
   "source": [
    "from sklearn.model_selection import train_test_split\n",
    "from sklearn.linear_model import LogisticRegression\n",
    "from sklearn.metrics import accuracy_score, classification_report\n",
    "\n",
    "# Splitting the data into features (X) and target (y)\n",
    "X = data.drop('Churn', axis=1)\n",
    "y = data['Churn']\n",
    "\n",
    "# Splitting the data into training and testing sets\n",
    "X_train, X_test, y_train, y_test = train_test_split(X, y, test_size=0.2, random_state=42)\n",
    "\n",
    "# Building the churn prediction model (Logistic Regression in this case)\n",
    "model = LogisticRegression()\n",
    "model.fit(X_train, y_train)\n",
    "\n",
    "# Predicting churn on the test set\n",
    "y_pred = model.predict(X_test)\n",
    "\n",
    "# Evaluating the model\n",
    "accuracy = accuracy_score(y_test, y_pred)\n",
    "print(\"Model Accuracy:\", accuracy)\n",
    "print(\"Classification Report:\")\n",
    "print(classification_report(y_test, y_pred))"
   ]
  },
  {
   "cell_type": "code",
   "execution_count": null,
   "id": "7144b2f2-4c17-4dae-b856-b6cfcf6a99f3",
   "metadata": {},
   "outputs": [],
   "source": []
  }
 ],
 "metadata": {
  "environment": {
   "kernel": "python3",
   "name": "common-cu113.m109",
   "type": "gcloud",
   "uri": "gcr.io/deeplearning-platform-release/base-cu113:m109"
  },
  "kernelspec": {
   "display_name": "Python 3",
   "language": "python",
   "name": "python3"
  },
  "language_info": {
   "codemirror_mode": {
    "name": "ipython",
    "version": 3
   },
   "file_extension": ".py",
   "mimetype": "text/x-python",
   "name": "python",
   "nbconvert_exporter": "python",
   "pygments_lexer": "ipython3",
   "version": "3.10.11"
  }
 },
 "nbformat": 4,
 "nbformat_minor": 5
}
